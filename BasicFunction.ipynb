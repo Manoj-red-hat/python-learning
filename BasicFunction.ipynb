{
 "cells": [
  {
   "cell_type": "code",
   "execution_count": 27,
   "metadata": {
    "collapsed": true
   },
   "outputs": [
    {
     "name": "stdout",
     "output_type": "stream",
     "text": [
      "[[0, 0, 0], [0, 0, 1], [0, 1, 0], [1, 0, 0], [1, 0, 1], [1, 1, 0], [1, 1, 1]]\n"
     ]
    }
   ],
   "source": [
    "\n",
    "def check_sum(i,j,k,tup):\n",
    "    sum=0\n",
    "    if (i==1):\n",
    "        sum=sum+tup[0]\n",
    "    if (j==1):\n",
    "        sum=sum+tup[1]\n",
    "    if (k==1):\n",
    "        sum=sum+tup[2]\n",
    "    return sum\n",
    "        \n",
    "print ( [[i,j,k] for i in range(2) for j in range(2) for k in range(2) if check_sum(i,j,k,(2,3,1)) != 4])\n",
    "\n",
    "# [i,j,k] for i in range(2) for j in range(2) for k in range(2) permutaion of three objects in binary\n",
    "# representation"
   ]
  },
  {
   "cell_type": "code",
   "execution_count": 35,
   "metadata": {},
   "outputs": [
    {
     "name": "stdout",
     "output_type": "stream",
     "text": [
      "[12.0, 13.0, 143.0]\n"
     ]
    }
   ],
   "source": [
    "# * collects all the positional arguments in a tuple\n",
    "\n",
    "# ** collects all the keyword arguments in a dictionary\n",
    "\n",
    "line=\"Hi 12 13 143\"\n",
    "name,*info=line.split()\n",
    "print(list(map(float,info)))"
   ]
  },
  {
   "cell_type": "code",
   "execution_count": 39,
   "metadata": {},
   "outputs": [
    {
     "name": "stdout",
     "output_type": "stream",
     "text": [
      "3.10\n"
     ]
    }
   ],
   "source": [
    "#formating helpers\n",
    "print(\"%.2f\" % 3.1)"
   ]
  },
  {
   "cell_type": "code",
   "execution_count": 48,
   "metadata": {},
   "outputs": [],
   "source": [
    "#count sub_string\n",
    "def count_substring(string, sub_string):\n",
    "    l=len(sub_string)\n",
    "    z=len(string)\n",
    "    count=0\n",
    "    for x in range(z):\n",
    "        if( x+l<=z):\n",
    "           if( string[x:x+l] == sub_string):\n",
    "            count=count+1\n",
    "    return count"
   ]
  },
  {
   "cell_type": "code",
   "execution_count": 49,
   "metadata": {},
   "outputs": [],
   "source": [
    ""
   ]
  },
  {
   "cell_type": "code",
   "execution_count": null,
   "metadata": {},
   "outputs": [],
   "source": [
    ""
   ]
  }
 ],
 "metadata": {
  "kernelspec": {
   "display_name": "Python 2",
   "language": "python",
   "name": "python2"
  },
  "language_info": {
   "codemirror_mode": {
    "name": "ipython",
    "version": 2.0
   },
   "file_extension": ".py",
   "mimetype": "text/x-python",
   "name": "python",
   "nbconvert_exporter": "python",
   "pygments_lexer": "ipython2",
   "version": "2.7.6"
  }
 },
 "nbformat": 4,
 "nbformat_minor": 0
}